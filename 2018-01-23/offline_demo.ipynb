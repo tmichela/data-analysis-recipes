{
 "cells": [
  {
   "cell_type": "markdown",
   "metadata": {},
   "source": [
    "# Example euxfel_h5tools python package #\n",
    "\n",
    "This example present basic functionalities of the python package euxfel_h5tools provided by the European XFEL. We will parse a run directory, extract related informations, read train related data, combine data from different data sources."
   ]
  },
  {
   "cell_type": "code",
   "execution_count": 1,
   "metadata": {
    "collapsed": true
   },
   "outputs": [],
   "source": [
    "# The European XFEL specific HDF5 tools\n",
    "from euxfel_h5tools import RunHandler, stack_detector_data"
   ]
  },
  {
   "cell_type": "code",
   "execution_count": 7,
   "metadata": {
    "collapsed": true
   },
   "outputs": [],
   "source": [
    "# Path to the data run we want to analyse\n",
    "run_dir = '/gpfs/exfel/data/scratch/haufs/karabo_ws/r0803/'"
   ]
  },
  {
   "cell_type": "markdown",
   "metadata": {},
   "source": [
    "The run directory contains many HDF5 files. In this case each of them contains a single data source (AGIPD detector modules), but it can contains many sources and thus be difficult to know where to find a particular parameter."
   ]
  },
  {
   "cell_type": "code",
   "execution_count": 3,
   "metadata": {
    "collapsed": false,
    "scrolled": false
   },
   "outputs": [
    {
     "name": "stdout",
     "output_type": "stream",
     "text": [
      "ls: cannot access /gpfs/exfel/data/exp/XMPL/r0803/: No such file or directory\r\n"
     ]
    }
   ],
   "source": [
    "!ls $run_dir | grep .h5"
   ]
  },
  {
   "cell_type": "code",
   "execution_count": 4,
   "metadata": {
    "collapsed": false,
    "scrolled": true
   },
   "outputs": [
    {
     "name": "stdout",
     "output_type": "stream",
     "text": [
      "Help on class RunHandler in module euxfel_h5tools.reader:\n",
      "\n",
      "class RunHandler(builtins.object)\n",
      " |  Handles a 'run' generated at the European XFEL.\n",
      " |  \n",
      " |  A 'run' is a directory containing a various amount of HDF5 file recorded\n",
      " |  in the European XFEL format. This class can iterate through the data\n",
      " |  contained in the run and extract instrument data per XRAY train.\n",
      " |  \n",
      " |  Parameters\n",
      " |  ----------\n",
      " |  path: str\n",
      " |      Path to the run directory.\n",
      " |  \n",
      " |  Methods defined here:\n",
      " |  \n",
      " |  __init__(self, path)\n",
      " |  \n",
      " |  infos(self)\n",
      " |      Show information about the run.\n",
      " |  \n",
      " |  train_from_id(self, train_id, devices=None)\n",
      " |      Get Train data for specified train ID.\n",
      " |      \n",
      " |      Parameters\n",
      " |      ----------\n",
      " |      train_id: int\n",
      " |          the train ID you want to return\n",
      " |      devices: dict, optional\n",
      " |          Use to filter data by devices and by parameters, i.e., for::\n",
      " |      \n",
      " |              dev = {'xray_monitor': {'pulseEnergy', 'beamPosition'}}\n",
      " |              for id, data in run,trains(devices=dev)\n",
      " |      \n",
      " |          the returned data will only contains the device 'xray_monitor'\n",
      " |          and 2 of it's parameters (pulseEnergy and beamPosition).\n",
      " |      \n",
      " |      returns\n",
      " |      -------\n",
      " |      train_id, data: tuple(int, dict)\n",
      " |          train_id is the train ID of the returned train\n",
      " |          data contains the train data.\n",
      " |      \n",
      " |      Raises\n",
      " |      ------\n",
      " |      KeyError\n",
      " |          if `train_id` is not found in the run.\n",
      " |  \n",
      " |  train_from_index(self, index, devices=None)\n",
      " |      Get the nth train in the run.\n",
      " |      \n",
      " |      Parameters\n",
      " |      ----------\n",
      " |      index: int\n",
      " |          the train ID you want to return\n",
      " |      devices: dict, optional\n",
      " |          Use to filter data by devices and by parameters, i.e., for::\n",
      " |      \n",
      " |              dev = {'xray_monitor': {'pulseEnergy', 'beamPosition'}}\n",
      " |              for id, data in run,trains(devices=dev)\n",
      " |      \n",
      " |          the returned data will only contains the device 'xray_monitor'\n",
      " |          and 2 of it's parameters (pulseEnergy and beamPosition).\n",
      " |      \n",
      " |      returns\n",
      " |      -------\n",
      " |      train_id, data: tuple(int, dict)\n",
      " |          train_id is the train ID of the returned train\n",
      " |          data contains the train data.\n",
      " |      \n",
      " |      Raises\n",
      " |      ------\n",
      " |      IndexError\n",
      " |          if train `index` is out of range.\n",
      " |  \n",
      " |  train_info(self, train_id)\n",
      " |      Show information about a specific train in the run.\n",
      " |      \n",
      " |      Parameters\n",
      " |      ----------\n",
      " |      train_id: int\n",
      " |          The specific train ID you get details information.\n",
      " |      \n",
      " |      Raises\n",
      " |      ------\n",
      " |      ValueError\n",
      " |          if `train_id` is not found in the run.\n",
      " |  \n",
      " |  trains(self, devices=None)\n",
      " |      Iterate over all trains in the run and gather all sources.\n",
      " |      \n",
      " |          run = Run('/path/to/my/run/r0123')\n",
      " |          for data, train_id in run.trains():\n",
      " |              value = data['device']['parameter']\n",
      " |      \n",
      " |      Parameters\n",
      " |      ----------\n",
      " |      devices: dict, optional\n",
      " |          Use to filter data by devices and by parameters, i.e., for::\n",
      " |      \n",
      " |              dev = {'xray_monitor': {'pulseEnergy', 'beamPosition'}}\n",
      " |              for id, data in run.trains(devices=dev)\n",
      " |      \n",
      " |          the returned data will only contains the device 'xray_monitor'\n",
      " |          and 2 of it's parameters (pulseEnergy and beamPosition).\n",
      " |      \n",
      " |      Returns\n",
      " |      -------\n",
      " |      (tid, data): tuple(int, dict)\n",
      " |          tid is the train ID of the returned train\n",
      " |          data contains data of the returned train for the selected run.\n",
      " |  \n",
      " |  ----------------------------------------------------------------------\n",
      " |  Data descriptors defined here:\n",
      " |  \n",
      " |  __dict__\n",
      " |      dictionary for instance variables (if defined)\n",
      " |  \n",
      " |  __weakref__\n",
      " |      list of weak references to the object (if defined)\n",
      "\n"
     ]
    }
   ],
   "source": [
    "help(RunHandler)"
   ]
  },
  {
   "cell_type": "markdown",
   "metadata": {},
   "source": [
    "By instantiating a RunHandler class, the run directory is parsed and contained data is sorted per train."
   ]
  },
  {
   "cell_type": "code",
   "execution_count": 8,
   "metadata": {
    "collapsed": true
   },
   "outputs": [],
   "source": [
    "# Instanciate the run handler with the path to the run folder.\n",
    "run1 = RunHandler(run_dir)"
   ]
  },
  {
   "cell_type": "markdown",
   "metadata": {},
   "source": [
    "You can find basic information about the run with the method `infos()`. `instrument` devices are devices which are pulses related (have more that one parameter value per train), `control` devices are train related or slower."
   ]
  },
  {
   "cell_type": "code",
   "execution_count": 10,
   "metadata": {
    "collapsed": false
   },
   "outputs": [
    {
     "name": "stdout",
     "output_type": "stream",
     "text": [
      "Run information\n",
      "\tDuration:       0:02:48.400000\n",
      "\tFirst train ID: 1541484692\n",
      "\tLast train ID:  1541486376\n",
      "\t# of trains:    251\n",
      "\n",
      "Devices\n",
      "\tInstruments\n",
      "\t- SPB_DET_AGIPD1M-1/DET/0CH0:xtdf\n",
      "\t- SPB_DET_AGIPD1M-1/DET/10CH0:xtdf\n",
      "\t- SPB_DET_AGIPD1M-1/DET/11CH0:xtdf\n",
      "\t- SPB_DET_AGIPD1M-1/DET/12CH0:xtdf\n",
      "\t- SPB_DET_AGIPD1M-1/DET/13CH0:xtdf\n",
      "\t- SPB_DET_AGIPD1M-1/DET/14CH0:xtdf\n",
      "\t- SPB_DET_AGIPD1M-1/DET/15CH0:xtdf\n",
      "\t- SPB_DET_AGIPD1M-1/DET/1CH0:xtdf\n",
      "\t- SPB_DET_AGIPD1M-1/DET/2CH0:xtdf\n",
      "\t- SPB_DET_AGIPD1M-1/DET/3CH0:xtdf\n",
      "\t- SPB_DET_AGIPD1M-1/DET/4CH0:xtdf\n",
      "\t- SPB_DET_AGIPD1M-1/DET/5CH0:xtdf\n",
      "\t- SPB_DET_AGIPD1M-1/DET/6CH0:xtdf\n",
      "\t- SPB_DET_AGIPD1M-1/DET/7CH0:xtdf\n",
      "\t- SPB_DET_AGIPD1M-1/DET/8CH0:xtdf\n",
      "\t- SPB_DET_AGIPD1M-1/DET/9CH0:xtdf\n",
      "\tControls\n",
      "\t-\n"
     ]
    }
   ],
   "source": [
    "# Display general information about this run.\n",
    "run1.infos()"
   ]
  },
  {
   "cell_type": "markdown",
   "metadata": {},
   "source": [
    "The RunHandler class contains a generator method that can Iterate over trains.\n",
    "The returned object is a tuple with 2 values: (1) the train ID of the returned train and (2) the data it contains."
   ]
  },
  {
   "cell_type": "code",
   "execution_count": 11,
   "metadata": {
    "collapsed": false
   },
   "outputs": [
    {
     "name": "stdout",
     "output_type": "stream",
     "text": [
      "* The train generator returns a  <class 'tuple'>\n",
      "* The returned train is: 1541484692\n",
      "* data sources in the first train:\n",
      " dict_keys(['SPB_DET_AGIPD1M-1/DET/9CH0:xtdf', 'SPB_DET_AGIPD1M-1/DET/8CH0:xtdf', 'SPB_DET_AGIPD1M-1/DET/14CH0:xtdf', 'SPB_DET_AGIPD1M-1/DET/1CH0:xtdf', 'SPB_DET_AGIPD1M-1/DET/5CH0:xtdf', 'SPB_DET_AGIPD1M-1/DET/2CH0:xtdf', 'SPB_DET_AGIPD1M-1/DET/15CH0:xtdf', 'SPB_DET_AGIPD1M-1/DET/13CH0:xtdf', 'SPB_DET_AGIPD1M-1/DET/12CH0:xtdf', 'SPB_DET_AGIPD1M-1/DET/0CH0:xtdf', 'SPB_DET_AGIPD1M-1/DET/10CH0:xtdf', 'SPB_DET_AGIPD1M-1/DET/7CH0:xtdf', 'SPB_DET_AGIPD1M-1/DET/3CH0:xtdf', 'SPB_DET_AGIPD1M-1/DET/4CH0:xtdf', 'SPB_DET_AGIPD1M-1/DET/6CH0:xtdf', 'SPB_DET_AGIPD1M-1/DET/11CH0:xtdf'])\n"
     ]
    }
   ],
   "source": [
    "trains = run1.trains()\n",
    "\n",
    "# get the first train in the run by calling next().\n",
    "first_train = next(trains)\n",
    "print('* The train generator returns a ', type(first_train))\n",
    "\n",
    "train_id, data = first_train\n",
    "\n",
    "# train_id is an int (unique identifier for each XRAY train)\n",
    "print('* The returned train is:', train_id)\n",
    "# data is a dictionary, each item is a data source.\n",
    "print('* data sources in the first train:\\n', data.keys())"
   ]
  },
  {
   "cell_type": "markdown",
   "metadata": {},
   "source": [
    "We want to get the parameter 'image.data' from the source 'SPB_DET_AGIPD1M-1/DET/0CH0:xtdf'.\n",
    "The data source represente the output data of a device in a karabo data pipeline.\n",
    "in this case the source is the output of the module 0 of the AGIPD detector from the instrument SPB.\n",
    "This parameter contains the pixels values for each pulses in the train."
   ]
  },
  {
   "cell_type": "code",
   "execution_count": 12,
   "metadata": {
    "collapsed": false
   },
   "outputs": [
    {
     "name": "stdout",
     "output_type": "stream",
     "text": [
      "data shape: (64, 512, 128)\n"
     ]
    }
   ],
   "source": [
    "image_mod0 = data['SPB_DET_AGIPD1M-1/DET/0CH0:xtdf']['image.data']\n",
    "\n",
    "# image.data is a numpy.array\n",
    "# 1st dimention: pulse index\n",
    "# 2nd and 3rd: x, y\n",
    "print('data shape:', image_mod0.shape)"
   ]
  },
  {
   "cell_type": "markdown",
   "metadata": {},
   "source": [
    "The detector contains 16, each are independant data sources.\n",
    "We can combine all of them in a single array."
   ]
  },
  {
   "cell_type": "code",
   "execution_count": 13,
   "metadata": {
    "collapsed": false
   },
   "outputs": [
    {
     "data": {
      "text/plain": [
       "(64, 16, 512, 128)"
      ]
     },
     "execution_count": 13,
     "metadata": {},
     "output_type": "execute_result"
    }
   ],
   "source": [
    "# Combine all modules into a single array\n",
    "full_detector_image = stack_detector_data(data, 'image.data')\n",
    "\n",
    "# shape: (pulses, modules, x, y)\n",
    "full_detector_image.shape"
   ]
  },
  {
   "cell_type": "markdown",
   "metadata": {},
   "source": [
    "We can iterate easily over all train using our train generator. Here we iterate over the next 10 trains and combine all the detector modules in a single array."
   ]
  },
  {
   "cell_type": "code",
   "execution_count": 11,
   "metadata": {
    "collapsed": false
   },
   "outputs": [
    {
     "name": "stdout",
     "output_type": "stream",
     "text": [
      "train: 1541484693 det: (64, 16, 512, 128)\n",
      "train: 1541486128 det: (64, 16, 512, 128)\n",
      "train: 1541486129 det: (64, 16, 512, 128)\n",
      "train: 1541486130 det: (64, 16, 512, 128)\n",
      "train: 1541486131 det: (64, 16, 512, 128)\n"
     ]
    }
   ],
   "source": [
    "i = 0\n",
    "for tid, data in trains:\n",
    "    full_detector_image = stack_detector_data(data, 'image.data')\n",
    "    print('train:', tid, 'det:', full_detector_image.shape)\n",
    "    i+=1\n",
    "    if i == 5:\n",
    "        break"
   ]
  },
  {
   "cell_type": "markdown",
   "metadata": {},
   "source": [
    "We can also retrieve a specific train contained in the run."
   ]
  },
  {
   "cell_type": "code",
   "execution_count": 12,
   "metadata": {
    "collapsed": false
   },
   "outputs": [
    {
     "name": "stdout",
     "output_type": "stream",
     "text": [
      "retrieved train 1541486130: 1541486130\n",
      "retrieved 101th train: 1541486226\n"
     ]
    }
   ],
   "source": [
    "# Retrieve a specific train by his train ID\n",
    "tid, data = run1.train_from_id(1541486130)\n",
    "print('retrieved train 1541486130:', tid)\n",
    "# Or by index\n",
    "tid, data = run1.train_from_index(100)\n",
    "print('retrieved 101th train:', tid)"
   ]
  },
  {
   "cell_type": "markdown",
   "metadata": {
    "collapsed": true
   },
   "source": [
    "Here we check if a a detector module data is missing in any train."
   ]
  },
  {
   "cell_type": "code",
   "execution_count": 13,
   "metadata": {
    "collapsed": false
   },
   "outputs": [
    {
     "name": "stdout",
     "output_type": "stream",
     "text": [
      "train 2: only 8 modules found\n",
      "train 250: only 8 modules found\n"
     ]
    }
   ],
   "source": [
    "for i in range(len(run1.ordered_trains)):\n",
    "    nb_sources = len(run1.ordered_trains[i][1])\n",
    "    if nb_sources < 16:\n",
    "        print('train {}: only {} modules found'.format(i, nb_sources))"
   ]
  },
  {
   "cell_type": "code",
   "execution_count": 14,
   "metadata": {
    "collapsed": false
   },
   "outputs": [
    {
     "name": "stdout",
     "output_type": "stream",
     "text": [
      "Train [1541486130] information\n",
      "Devices\n",
      "\tInstruments\n",
      "\t- SPB_DET_AGIPD1M-1/DET/0CH0:xtdf\n",
      "\t- SPB_DET_AGIPD1M-1/DET/10CH0:xtdf\n",
      "\t- SPB_DET_AGIPD1M-1/DET/11CH0:xtdf\n",
      "\t- SPB_DET_AGIPD1M-1/DET/12CH0:xtdf\n",
      "\t- SPB_DET_AGIPD1M-1/DET/13CH0:xtdf\n",
      "\t- SPB_DET_AGIPD1M-1/DET/14CH0:xtdf\n",
      "\t- SPB_DET_AGIPD1M-1/DET/15CH0:xtdf\n",
      "\t- SPB_DET_AGIPD1M-1/DET/1CH0:xtdf\n",
      "\t- SPB_DET_AGIPD1M-1/DET/2CH0:xtdf\n",
      "\t- SPB_DET_AGIPD1M-1/DET/3CH0:xtdf\n",
      "\t- SPB_DET_AGIPD1M-1/DET/4CH0:xtdf\n",
      "\t- SPB_DET_AGIPD1M-1/DET/5CH0:xtdf\n",
      "\t- SPB_DET_AGIPD1M-1/DET/6CH0:xtdf\n",
      "\t- SPB_DET_AGIPD1M-1/DET/7CH0:xtdf\n",
      "\t- SPB_DET_AGIPD1M-1/DET/8CH0:xtdf\n",
      "\t- SPB_DET_AGIPD1M-1/DET/9CH0:xtdf\n",
      "\tControls\n",
      "\t-\n"
     ]
    }
   ],
   "source": [
    "run1.train_info(1541486130)"
   ]
  },
  {
   "cell_type": "markdown",
   "metadata": {
    "collapsed": true
   },
   "source": [
    "While retrieving train data, it is possible to filter only interesting data sources, and parameters."
   ]
  },
  {
   "cell_type": "code",
   "execution_count": 20,
   "metadata": {
    "collapsed": false
   },
   "outputs": [
    {
     "name": "stdout",
     "output_type": "stream",
     "text": [
      "train: 1541486138\n",
      "sources dict_keys(['SPB_DET_AGIPD1M-1/DET/5CH0:xtdf'])\n",
      "parameters dict_keys(['image.gain', 'metadata', 'image.data'])\n",
      "***\n",
      "train: 1541486139\n",
      "sources dict_keys(['SPB_DET_AGIPD1M-1/DET/5CH0:xtdf'])\n",
      "parameters dict_keys(['image.gain', 'metadata', 'image.data'])\n",
      "***\n",
      "train: 1541486140\n",
      "sources dict_keys(['SPB_DET_AGIPD1M-1/DET/5CH0:xtdf'])\n",
      "parameters dict_keys(['image.gain', 'metadata', 'image.data'])\n",
      "***\n"
     ]
    }
   ],
   "source": [
    "# dict holding only what we are interested in\n",
    "devs = {'SPB_DET_AGIPD1M-1/DET/5CH0:xtdf': {'image.data', 'image.gain'}}\n",
    "    \n",
    "for i in range(12, 15):\n",
    "    tid, data = run1.train_from_index(i, devices=devs)\n",
    "    print('train:', tid)\n",
    "    print('sources', data.keys())\n",
    "    print('parameters', data['SPB_DET_AGIPD1M-1/DET/5CH0:xtdf'].keys())\n",
    "    print('***')"
   ]
  }
 ],
 "metadata": {
  "kernelspec": {
   "display_name": "Python 3",
   "language": "python",
   "name": "python3"
  },
  "language_info": {
   "codemirror_mode": {
    "name": "ipython",
    "version": 3
   },
   "file_extension": ".py",
   "mimetype": "text/x-python",
   "name": "python",
   "nbconvert_exporter": "python",
   "pygments_lexer": "ipython3",
   "version": "3.4.3"
  }
 },
 "nbformat": 4,
 "nbformat_minor": 1
}
